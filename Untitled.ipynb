{
 "cells": [
  {
   "cell_type": "code",
   "execution_count": 2,
   "metadata": {
    "collapsed": false
   },
   "outputs": [
    {
     "name": "stdout",
     "output_type": "stream",
     "text": [
      "Populating the interactive namespace from numpy and matplotlib\n"
     ]
    }
   ],
   "source": [
    "%pylab inline\n",
    "import matplotlib\n",
    "matplotlib.rcParams['text.usetex'] = True\n",
    "matplotlib.rcParams['text.latex.unicode'] = True\n",
    "from matplotlib import rc"
   ]
  },
  {
   "cell_type": "markdown",
   "metadata": {
    "collapsed": true
   },
   "source": [
    "# DA CODE!!!"
   ]
  },
  {
   "cell_type": "markdown",
   "metadata": {},
   "source": [
    "## Centellador de plastico (Alpha)"
   ]
  },
  {
   "cell_type": "code",
   "execution_count": 3,
   "metadata": {
    "collapsed": true
   },
   "outputs": [],
   "source": [
    "def find_nearest(array,value):\n",
    "    idx = (np.abs(array-value)).argmin()\n",
    "    return idx"
   ]
  },
  {
   "cell_type": "code",
   "execution_count": 4,
   "metadata": {
    "collapsed": false
   },
   "outputs": [],
   "source": [
    "data = np.loadtxt('centellaplastic.txt')"
   ]
  },
  {
   "cell_type": "code",
   "execution_count": 20,
   "metadata": {
    "collapsed": false,
    "scrolled": true
   },
   "outputs": [
    {
     "data": {
      "image/png": "[encoded data removed]",
      "text/plain": [
       "<matplotlib.figure.Figure at 0x7f9f24f441d0>"
      ]
     },
     "metadata": {},
     "output_type": "display_data"
    }
   ],
   "source": [
    "Ec = 5\n",
    "delta_Ec = []\n",
    "d_xc = 1E-5\n",
    "while(Ec > 0.0) :\n",
    "    val = data[find_nearest(data[:,0],Ec),1]*d_xc\n",
    "    delta_Ec.append(val)\n",
    "    Ec -= val\n",
    "xc = linspace(0,max(delta_Ec),len(delta_Ec))*d_xc\n",
    "figure(figsize=(8,5))\n",
    "plot (xc,delta_Ec, label = r'Energ\\'ia depositada')\n",
    "scatter (1.43226651842e-08,0.00145, color = 'r',label= 'Pico de Bragg')\n",
    "title (r'Energ\\'ia depositada de particulas $\\alpha$ para Centellador pl\\'astico' , y=1.0)\n",
    "xlabel ('x[cm]', fontsize=15)\n",
    "ylabel (r'$\\Delta$E[MeV]', fontsize=15)\n",
    "legend(loc='best')\n",
    "ticklabel_format(style='sci', axis='y', scilimits=(0,0))\n",
    "xlim(0,max(xc))\n",
    "savefig('alphaCentellador.png')"
   ]
  },
  {
   "cell_type": "code",
   "execution_count": 19,
   "metadata": {
    "collapsed": false
   },
   "outputs": [
    {
     "name": "stdout",
     "output_type": "stream",
     "text": [
      "1.43226651842e-08 0.00145\n",
      "1.45e-08\n"
     ]
    }
   ],
   "source": [
    "max_y = max(delta_Ec)  \n",
    "max_x = xc[delta_Ec.index(max_y)]\n",
    "print max_x, max_y\n",
    "print max(xc)"
   ]
  },
  {
   "cell_type": "markdown",
   "metadata": {},
   "source": [
    "## Nitrogeno (Alpha)"
   ]
  },
  {
   "cell_type": "code",
   "execution_count": 7,
   "metadata": {
    "collapsed": true
   },
   "outputs": [],
   "source": [
    "datan = np.loadtxt('nitro.txt')"
   ]
  },
  {
   "cell_type": "code",
   "execution_count": 22,
   "metadata": {
    "collapsed": false
   },
   "outputs": [
    {
     "data": {
      "image/png": "[encoded data removed]",
      "text/plain": [
       "<matplotlib.figure.Figure at 0x7f9f2312f950>"
      ]
     },
     "metadata": {},
     "output_type": "display_data"
    }
   ],
   "source": [
    "En = 5\n",
    "delta_En = []\n",
    "d_xn = 0.01E-5\n",
    "while(En > 0.0) :\n",
    "    val = data[find_nearest(datan[:,0],En),1]*d_xn\n",
    "    delta_En.append(val)\n",
    "    En -= val\n",
    "xn = linspace(0,max(delta_En),len(delta_En))*d_xn\n",
    "figure(figsize=(8,5))\n",
    "plot (xn,delta_En,label = r'Energ\\'ia depositada')\n",
    "scatter (1.4321135929e-12,1.45e-05, color = 'r',label= 'Pico de Bragg')\n",
    "legend(loc='best')\n",
    "title (r'Energ\\'ia depositada de particulas $\\alpha$ para Nitrogeno' , y=1.0)\n",
    "xlabel ('x[cm]', fontsize=15)\n",
    "ylabel (r'$\\Delta$E[MeV]', fontsize=15)\n",
    "ticklabel_format(style='sci', axis='y', scilimits=(0,0))\n",
    "xlim(0,max(xn))\n",
    "savefig('alphanitrogeno.png')"
   ]
  },
  {
   "cell_type": "code",
   "execution_count": 21,
   "metadata": {
    "collapsed": false
   },
   "outputs": [
    {
     "name": "stdout",
     "output_type": "stream",
     "text": [
      "1.4321135929e-12 1.45e-05\n",
      "1.45e-12\n"
     ]
    }
   ],
   "source": [
    "max_y = max(delta_En)  \n",
    "max_x = xn[delta_En.index(max_y)]\n",
    "print max_x, max_y\n",
    "print max(xn)"
   ]
  },
  {
   "cell_type": "markdown",
   "metadata": {},
   "source": [
    "## Uranio (Alpha)"
   ]
  },
  {
   "cell_type": "code",
   "execution_count": 10,
   "metadata": {
    "collapsed": true
   },
   "outputs": [],
   "source": [
    "datau = np.loadtxt('uranio.txt')"
   ]
  },
  {
   "cell_type": "code",
   "execution_count": 11,
   "metadata": {
    "collapsed": false
   },
   "outputs": [
    {
     "data": {
      "image/png": "[encoded data removed]",
      "text/plain": [
       "<matplotlib.figure.Figure at 0x7f9f255b8590>"
      ]
     },
     "metadata": {},
     "output_type": "display_data"
    }
   ],
   "source": [
    "E = 5\n",
    "delta_E = []\n",
    "d_x = 0.01E-5\n",
    "while(E > 0.0) :\n",
    "    val = datau[find_nearest(datau[:,0],E),1]*d_x\n",
    "    delta_E.append(val)\n",
    "    E -= val\n",
    "x=linspace(0,max(delta_E),len(delta_E))*d_x\n",
    "figure(figsize=(8,5))\n",
    "plot (x,delta_E,label = r'Energ\\'ia depositada')\n",
    "scatter (3.74406554296e-12,4.527e-05, color = 'r',label = r'Pico de Bragg' )\n",
    "title (r'Energ\\'ia depositada de particulas $\\alpha$ para Uranio' , y=1.0)\n",
    "xlabel ('x[cm]', fontsize=15)\n",
    "ylabel (r'$\\Delta$E[MeV]', fontsize=15)\n",
    "legend(loc='best')\n",
    "ticklabel_format(style='sci', axis='y', scilimits=(0,0))\n",
    "xlim(0,max(x))\n",
    "savefig('alphauranio.png')"
   ]
  },
  {
   "cell_type": "code",
   "execution_count": 12,
   "metadata": {
    "collapsed": false
   },
   "outputs": [
    {
     "name": "stdout",
     "output_type": "stream",
     "text": [
      "3.74406554296e-12 4.527e-05\n",
      "4.527e-12\n"
     ]
    }
   ],
   "source": [
    "max_y = max(delta_E)  \n",
    "max_x = x[delta_E.index(max_y)]\n",
    "print max_x, max_y\n",
    "print max(x)"
   ]
  },
  {
   "cell_type": "markdown",
   "metadata": {},
   "source": [
    "## Uranio (Protones)"
   ]
  },
  {
   "cell_type": "code",
   "execution_count": 13,
   "metadata": {
    "collapsed": true
   },
   "outputs": [],
   "source": [
    "def find_nearest(array,value):\n",
    "    idx = (np.abs(array-value)).argmin()\n",
    "    return idx"
   ]
  },
  {
   "cell_type": "code",
   "execution_count": 14,
   "metadata": {
    "collapsed": true
   },
   "outputs": [],
   "source": [
    "data = np.loadtxt('uranioprotones.txt')"
   ]
  },
  {
   "cell_type": "code",
   "execution_count": 15,
   "metadata": {
    "collapsed": false
   },
   "outputs": [
    {
     "data": {
      "image/png": "[encoded data removed]",
      "text/plain": [
       "<matplotlib.figure.Figure at 0x7f9f253b9c50>"
      ]
     },
     "metadata": {},
     "output_type": "display_data"
    }
   ],
   "source": [
    "E = 5\n",
    "delta_E = []\n",
    "d_x = 0.01E-5\n",
    "while(E > 0.0) :\n",
    "    val = data[find_nearest(data[:,0],E),1]*d_x\n",
    "    delta_E.append(val)\n",
    "    E -= val\n",
    "x = linspace(0,max(delta_E),len(delta_E))*d_xc\n",
    "figure(figsize=(8,5))\n",
    "plot (x,delta_E, label= r'Energ\\'ia depositada')\n",
    "scatter (1.4321135929e-10,1.45e-05, color = 'r', label ='Pico de Bragg')\n",
    "title (r'Energ\\'ia depositada de protones para Uranio' , y=1.0)\n",
    "xlabel ('x[cm]', fontsize=15)\n",
    "ylabel (r'$\\Delta$E[MeV]', fontsize=15)\n",
    "legend(loc='best')\n",
    "ticklabel_format(style='sci', axis='y', scilimits=(0,0))\n",
    "xlim(0,max(x))\n",
    "savefig('protonUranio.png')"
   ]
  },
  {
   "cell_type": "code",
   "execution_count": 16,
   "metadata": {
    "collapsed": false
   },
   "outputs": [
    {
     "name": "stdout",
     "output_type": "stream",
     "text": [
      "1.4321135929e-10 1.45e-05\n",
      "1.45e-10\n"
     ]
    }
   ],
   "source": [
    "max_y = max(delta_E)  \n",
    "max_x = x[delta_E.index(max_y)]\n",
    "print max_x, max_y\n",
    "print max(x)"
   ]
  }
 ],
 "metadata": {
  "kernelspec": {
   "display_name": "Python 2",
   "language": "python",
   "name": "python2"
  },
  "language_info": {
   "codemirror_mode": {
    "name": "ipython",
    "version": 2
   },
   "file_extension": ".py",
   "mimetype": "text/x-python",
   "name": "python",
   "nbconvert_exporter": "python",
   "pygments_lexer": "ipython2",
   "version": "2.7.10"
  }
 },
 "nbformat": 4,
 "nbformat_minor": 0
}
